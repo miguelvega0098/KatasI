{
 "cells": [
  {
   "cell_type": "markdown",
   "metadata": {},
   "source": [
    " ### Alarma de asteroide"
   ]
  },
  {
   "cell_type": "code",
   "execution_count": 1,
   "metadata": {
    "scrolled": true
   },
   "outputs": [
    {
     "name": "stdout",
     "output_type": "stream",
     "text": [
      "Ingresa la velocidad del asteroide en Km/s: 50\n"
     ]
    }
   ],
   "source": [
    "Vast = int(input(\"Ingresa la velocidad del asteroide en Km/s: \"))"
   ]
  },
  {
   "cell_type": "code",
   "execution_count": 2,
   "metadata": {},
   "outputs": [
    {
     "name": "stdout",
     "output_type": "stream",
     "text": [
      "¡¡¡Alerta de asterode a una velocidad peligrosa!!!\n"
     ]
    }
   ],
   "source": [
    "if Vast >= 25:\n",
    "    print(\"¡¡¡Alerta de asterode a una velocidad peligrosa!!!\")\n",
    "  \n",
    "else:\n",
    "    if Vast >= 20:\n",
    "        print(\"Asteroide visible desde la tierra.\")\n",
    "    else:\n",
    "        print(\"aqui no pasa nada ;)\")"
   ]
  },
  {
   "cell_type": "code",
   "execution_count": 3,
   "metadata": {},
   "outputs": [
    {
     "name": "stdout",
     "output_type": "stream",
     "text": [
      "Ingrese dimension del asteroide: 30\n"
     ]
    }
   ],
   "source": [
    "Dast = int(input(\"Ingrese dimension del asteroide: \"))"
   ]
  },
  {
   "cell_type": "code",
   "execution_count": 4,
   "metadata": {},
   "outputs": [
    {
     "name": "stdout",
     "output_type": "stream",
     "text": [
      "Alerta de colision de asteroide de peligroso tamaño y velocidad\n"
     ]
    }
   ],
   "source": [
    "if Vast >= 25 and Dast >= 25 and Dast <= 1000:\n",
    "    print (\"Alerta de colision de asteroide de peligroso tamaño y velocidad\")\n",
    "else:\n",
    "    if Vast < 25 and Dast >= 25 and Dast <= 1000:\n",
    "        print(\"Alerta de colision con asteroide de peligroso tamaño\")\n",
    "    else:\n",
    "        if Dast < 25:\n",
    "            print(\"Aqui no pasa nada\")\n",
    "        else:\n",
    "            print(\"Moriremos todos, ya ni le corras\")"
   ]
  },
  {
   "cell_type": "code",
   "execution_count": null,
   "metadata": {},
   "outputs": [],
   "source": []
  }
 ],
 "metadata": {
  "kernelspec": {
   "display_name": "Python 3",
   "language": "python",
   "name": "python3"
  },
  "language_info": {
   "codemirror_mode": {
    "name": "ipython",
    "version": 3
   },
   "file_extension": ".py",
   "mimetype": "text/x-python",
   "name": "python",
   "nbconvert_exporter": "python",
   "pygments_lexer": "ipython3",
   "version": "3.8.3"
  }
 },
 "nbformat": 4,
 "nbformat_minor": 4
}
